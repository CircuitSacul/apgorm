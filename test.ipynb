{
 "cells": [
  {
   "cell_type": "code",
   "execution_count": 1,
   "metadata": {},
   "outputs": [],
   "source": [
    "from __future__ import annotations\n",
    "\n",
    "import json\n",
    "from pprint import pprint\n",
    "from pathlib import Path\n",
    "\n",
    "from examples.advanced.database import Database"
   ]
  },
  {
   "cell_type": "code",
   "execution_count": 2,
   "metadata": {},
   "outputs": [],
   "source": [
    "db = Database(Path(\"examples/advanced/migrations\"))"
   ]
  },
  {
   "cell_type": "code",
   "execution_count": 3,
   "metadata": {},
   "outputs": [
    {
     "data": {
      "text/plain": [
       "False"
      ]
     },
     "execution_count": 3,
     "metadata": {},
     "output_type": "execute_result"
    }
   ],
   "source": [
    "db.must_create_migrations()"
   ]
  },
  {
   "cell_type": "code",
   "execution_count": 4,
   "metadata": {},
   "outputs": [],
   "source": [
    "db.create_migrations()"
   ]
  },
  {
   "cell_type": "code",
   "execution_count": 5,
   "metadata": {},
   "outputs": [
    {
     "data": {
      "text/plain": [
       "Migration(path='examples/advanced/migrations/0.json', describe=Describe(tables=[DescribeTable(name='_internal_applied_migrations', fields=[DescribeField(name='id_', type_='INTEGER', constraints=['NOT NULL', 'PRIMARY KEY'], default=<UNDEF.UNDEF: 'UNDEFINED'>)], constraints=[]), DescribeTable(name='games', fields=[DescribeField(name='id_', type_='SERIAL', constraints=['NOT NULL', 'PRIMARY KEY'], default=<UNDEF.UNDEF: 'UNDEFINED'>), DescribeField(name='name', type_='VARCHAR(32)', constraints=['NOT NULL'], default=<UNDEF.UNDEF: 'UNDEFINED'>)], constraints=[]), DescribeTable(name='players', fields=[DescribeField(name='game_id', type_='INTEGER', constraints=['NOT NULL'], default=<UNDEF.UNDEF: 'UNDEFINED'>), DescribeField(name='id_', type_='SERIAL', constraints=['NOT NULL', 'PRIMARY KEY'], default=<UNDEF.UNDEF: 'UNDEFINED'>), DescribeField(name='status', type_='INTEGER', constraints=['NOT NULL'], default=0), DescribeField(name='user_id', type_='INTEGER', constraints=['NOT NULL'], default=<UNDEF.UNDEF: 'UNDEFINED'>)], constraints=[DescribeConstraint(name='game_id_fk', raw_sql='CONSTRAINT game_id_fk FOREIGN KEY ( game_id ) REFERENCES games ( id_ ) ON DELETE CASCADE ON UPDATE CASCADE', params=[]), DescribeConstraint(name='user_id_fk', raw_sql='CONSTRAINT user_id_fk FOREIGN KEY ( user_id ) REFERENCES users ( id_ ) ON DELETE CASCADE ON UPDATE CASCADE', params=[])]), DescribeTable(name='users', fields=[DescribeField(name='id_', type_='SERIAL', constraints=['NOT NULL', 'PRIMARY KEY'], default=<UNDEF.UNDEF: 'UNDEFINED'>), DescribeField(name='nickname', type_='VARCHAR(32)', constraints=[], default=None), DescribeField(name='username', type_='VARCHAR(32)', constraints=['NOT NULL', 'UNIQUE'], default=<UNDEF.UNDEF: 'UNDEFINED'>)], constraints=[])]), new_tables=['_internal_applied_migrations', 'games', 'players', 'users'], dropped_tables=[], renamed_tables=[], new_table_constraints=[TableConstraintAdd(table='players', name='game_id_fk', raw_sql='CONSTRAINT game_id_fk FOREIGN KEY ( game_id ) REFERENCES games ( id_ ) ON DELETE CASCADE ON UPDATE CASCADE', params=[]), TableConstraintAdd(table='players', name='user_id_fk', raw_sql='CONSTRAINT user_id_fk FOREIGN KEY ( user_id ) REFERENCES users ( id_ ) ON DELETE CASCADE ON UPDATE CASCADE', params=[])], dropped_table_constraints=[], new_fields=[FieldAdd(table='_internal_applied_migrations', name='id_', default=<UNDEF.UNDEF: 'UNDEFINED'>), FieldAdd(table='games', name='id_', default=<UNDEF.UNDEF: 'UNDEFINED'>), FieldAdd(table='games', name='name', default=<UNDEF.UNDEF: 'UNDEFINED'>), FieldAdd(table='players', name='game_id', default=<UNDEF.UNDEF: 'UNDEFINED'>), FieldAdd(table='players', name='id_', default=<UNDEF.UNDEF: 'UNDEFINED'>), FieldAdd(table='players', name='status', default=0), FieldAdd(table='players', name='user_id', default=<UNDEF.UNDEF: 'UNDEFINED'>), FieldAdd(table='users', name='id_', default=<UNDEF.UNDEF: 'UNDEFINED'>), FieldAdd(table='users', name='nickname', default=None), FieldAdd(table='users', name='username', default=<UNDEF.UNDEF: 'UNDEFINED'>)], dropped_fields=[], renamed_fields=[], new_field_constraints=[FieldConstraintAddDrop(table='_internal_applied_migrations', field='id_', constraint='NOT NULL'), FieldConstraintAddDrop(table='_internal_applied_migrations', field='id_', constraint='PRIMARY KEY'), FieldConstraintAddDrop(table='games', field='id_', constraint='NOT NULL'), FieldConstraintAddDrop(table='games', field='id_', constraint='PRIMARY KEY'), FieldConstraintAddDrop(table='games', field='name', constraint='NOT NULL'), FieldConstraintAddDrop(table='players', field='game_id', constraint='NOT NULL'), FieldConstraintAddDrop(table='players', field='id_', constraint='NOT NULL'), FieldConstraintAddDrop(table='players', field='id_', constraint='PRIMARY KEY'), FieldConstraintAddDrop(table='players', field='status', constraint='NOT NULL'), FieldConstraintAddDrop(table='players', field='user_id', constraint='NOT NULL'), FieldConstraintAddDrop(table='users', field='id_', constraint='NOT NULL'), FieldConstraintAddDrop(table='users', field='id_', constraint='PRIMARY KEY'), FieldConstraintAddDrop(table='users', field='username', constraint='NOT NULL'), FieldConstraintAddDrop(table='users', field='username', constraint='UNIQUE')], dropped_field_constraints=[])"
      ]
     },
     "execution_count": 5,
     "metadata": {},
     "output_type": "execute_result"
    }
   ],
   "source": [
    "db.load_last_migration().describe.tables"
   ]
  },
  {
   "cell_type": "code",
   "execution_count": 6,
   "metadata": {},
   "outputs": [
    {
     "name": "stdout",
     "output_type": "stream",
     "text": [
      "{'describe': {'tables': [{'constraints': [],\n",
      "                          'fields': [{'constraints': ['NOT NULL',\n",
      "                                                      'PRIMARY KEY'],\n",
      "                                      'name': 'id_',\n",
      "                                      'type_': 'INTEGER'}],\n",
      "                          'name': '_internal_applied_migrations'},\n",
      "                         {'constraints': [],\n",
      "                          'fields': [{'constraints': ['NOT NULL',\n",
      "                                                      'PRIMARY KEY'],\n",
      "                                      'name': 'id_',\n",
      "                                      'type_': 'SERIAL'},\n",
      "                                     {'constraints': ['NOT NULL'],\n",
      "                                      'name': 'name',\n",
      "                                      'type_': 'VARCHAR(32)'}],\n",
      "                          'name': 'games'},\n",
      "                         {'constraints': [{'name': 'game_id_fk',\n",
      "                                           'params': [],\n",
      "                                           'raw_sql': 'CONSTRAINT game_id_fk '\n",
      "                                                      'FOREIGN KEY ( game_id ) '\n",
      "                                                      'REFERENCES games ( id_ '\n",
      "                                                      ') ON DELETE CASCADE ON '\n",
      "                                                      'UPDATE CASCADE'},\n",
      "                                          {'name': 'user_id_fk',\n",
      "                                           'params': [],\n",
      "                                           'raw_sql': 'CONSTRAINT user_id_fk '\n",
      "                                                      'FOREIGN KEY ( user_id ) '\n",
      "                                                      'REFERENCES users ( id_ '\n",
      "                                                      ') ON DELETE CASCADE ON '\n",
      "                                                      'UPDATE CASCADE'}],\n",
      "                          'fields': [{'constraints': ['NOT NULL'],\n",
      "                                      'name': 'game_id',\n",
      "                                      'type_': 'INTEGER'},\n",
      "                                     {'constraints': ['NOT NULL',\n",
      "                                                      'PRIMARY KEY'],\n",
      "                                      'name': 'id_',\n",
      "                                      'type_': 'SERIAL'},\n",
      "                                     {'constraints': ['NOT NULL'],\n",
      "                                      'default': 0,\n",
      "                                      'name': 'status',\n",
      "                                      'type_': 'INTEGER'},\n",
      "                                     {'constraints': ['NOT NULL'],\n",
      "                                      'name': 'user_id',\n",
      "                                      'type_': 'INTEGER'}],\n",
      "                          'name': 'players'},\n",
      "                         {'constraints': [],\n",
      "                          'fields': [{'constraints': ['NOT NULL',\n",
      "                                                      'PRIMARY KEY'],\n",
      "                                      'name': 'id_',\n",
      "                                      'type_': 'SERIAL'},\n",
      "                                     {'constraints': [],\n",
      "                                      'default': None,\n",
      "                                      'name': 'nickname',\n",
      "                                      'type_': 'VARCHAR(32)'},\n",
      "                                     {'constraints': ['NOT NULL', 'UNIQUE'],\n",
      "                                      'name': 'username',\n",
      "                                      'type_': 'VARCHAR(32)'}],\n",
      "                          'name': 'users'}]},\n",
      " 'dropped_field_constraints': [],\n",
      " 'dropped_fields': [],\n",
      " 'dropped_table_constraints': [],\n",
      " 'dropped_tables': [],\n",
      " 'new_field_constraints': [{'constraint': 'NOT NULL',\n",
      "                            'field': 'id_',\n",
      "                            'table': '_internal_applied_migrations'},\n",
      "                           {'constraint': 'PRIMARY KEY',\n",
      "                            'field': 'id_',\n",
      "                            'table': '_internal_applied_migrations'},\n",
      "                           {'constraint': 'NOT NULL',\n",
      "                            'field': 'id_',\n",
      "                            'table': 'games'},\n",
      "                           {'constraint': 'PRIMARY KEY',\n",
      "                            'field': 'id_',\n",
      "                            'table': 'games'},\n",
      "                           {'constraint': 'NOT NULL',\n",
      "                            'field': 'name',\n",
      "                            'table': 'games'},\n",
      "                           {'constraint': 'NOT NULL',\n",
      "                            'field': 'game_id',\n",
      "                            'table': 'players'},\n",
      "                           {'constraint': 'NOT NULL',\n",
      "                            'field': 'id_',\n",
      "                            'table': 'players'},\n",
      "                           {'constraint': 'PRIMARY KEY',\n",
      "                            'field': 'id_',\n",
      "                            'table': 'players'},\n",
      "                           {'constraint': 'NOT NULL',\n",
      "                            'field': 'status',\n",
      "                            'table': 'players'},\n",
      "                           {'constraint': 'NOT NULL',\n",
      "                            'field': 'user_id',\n",
      "                            'table': 'players'},\n",
      "                           {'constraint': 'NOT NULL',\n",
      "                            'field': 'id_',\n",
      "                            'table': 'users'},\n",
      "                           {'constraint': 'PRIMARY KEY',\n",
      "                            'field': 'id_',\n",
      "                            'table': 'users'},\n",
      "                           {'constraint': 'NOT NULL',\n",
      "                            'field': 'username',\n",
      "                            'table': 'users'},\n",
      "                           {'constraint': 'UNIQUE',\n",
      "                            'field': 'username',\n",
      "                            'table': 'users'}],\n",
      " 'new_fields': [{'name': 'id_', 'table': '_internal_applied_migrations'},\n",
      "                {'name': 'id_', 'table': 'games'},\n",
      "                {'name': 'name', 'table': 'games'},\n",
      "                {'name': 'game_id', 'table': 'players'},\n",
      "                {'name': 'id_', 'table': 'players'},\n",
      "                {'default': 0, 'name': 'status', 'table': 'players'},\n",
      "                {'name': 'user_id', 'table': 'players'},\n",
      "                {'name': 'id_', 'table': 'users'},\n",
      "                {'default': None, 'name': 'nickname', 'table': 'users'},\n",
      "                {'name': 'username', 'table': 'users'}],\n",
      " 'new_table_constraints': [{'name': 'game_id_fk',\n",
      "                            'params': [],\n",
      "                            'raw_sql': 'CONSTRAINT game_id_fk FOREIGN KEY ( '\n",
      "                                       'game_id ) REFERENCES games ( id_ ) ON '\n",
      "                                       'DELETE CASCADE ON UPDATE CASCADE',\n",
      "                            'table': 'players'},\n",
      "                           {'name': 'user_id_fk',\n",
      "                            'params': [],\n",
      "                            'raw_sql': 'CONSTRAINT user_id_fk FOREIGN KEY ( '\n",
      "                                       'user_id ) REFERENCES users ( id_ ) ON '\n",
      "                                       'DELETE CASCADE ON UPDATE CASCADE',\n",
      "                            'table': 'players'}],\n",
      " 'new_tables': ['_internal_applied_migrations', 'games', 'players', 'users'],\n",
      " 'renamed_fields': [],\n",
      " 'renamed_tables': []}\n"
     ]
    }
   ],
   "source": [
    "pprint(json.loads('{\"describe\": {\"tables\": [{\"name\": \"_internal_applied_migrations\", \"fields\": [{\"name\": \"id_\", \"type_\": \"INTEGER\", \"constraints\": [\"NOT NULL\", \"PRIMARY KEY\"]}], \"constraints\": []}, {\"name\": \"games\", \"fields\": [{\"name\": \"id_\", \"type_\": \"SERIAL\", \"constraints\": [\"NOT NULL\", \"PRIMARY KEY\"]}, {\"name\": \"name\", \"type_\": \"VARCHAR(32)\", \"constraints\": [\"NOT NULL\"]}], \"constraints\": []}, {\"name\": \"players\", \"fields\": [{\"name\": \"game_id\", \"type_\": \"INTEGER\", \"constraints\": [\"NOT NULL\"]}, {\"name\": \"id_\", \"type_\": \"SERIAL\", \"constraints\": [\"NOT NULL\", \"PRIMARY KEY\"]}, {\"name\": \"status\", \"type_\": \"INTEGER\", \"constraints\": [\"NOT NULL\"], \"default\": 0}, {\"name\": \"user_id\", \"type_\": \"INTEGER\", \"constraints\": [\"NOT NULL\"]}], \"constraints\": [{\"name\": \"game_id_fk\", \"raw_sql\": \"CONSTRAINT game_id_fk FOREIGN KEY ( game_id ) REFERENCES games ( id_ ) ON DELETE CASCADE ON UPDATE CASCADE\", \"params\": []}, {\"name\": \"user_id_fk\", \"raw_sql\": \"CONSTRAINT user_id_fk FOREIGN KEY ( user_id ) REFERENCES users ( id_ ) ON DELETE CASCADE ON UPDATE CASCADE\", \"params\": []}]}, {\"name\": \"users\", \"fields\": [{\"name\": \"id_\", \"type_\": \"SERIAL\", \"constraints\": [\"NOT NULL\", \"PRIMARY KEY\"]}, {\"name\": \"nickname\", \"type_\": \"VARCHAR(32)\", \"constraints\": [], \"default\": null}, {\"name\": \"username\", \"type_\": \"VARCHAR(32)\", \"constraints\": [\"NOT NULL\", \"UNIQUE\"]}], \"constraints\": []}]}, \"new_tables\": [\"_internal_applied_migrations\", \"games\", \"players\", \"users\"], \"dropped_tables\": [], \"renamed_tables\": [], \"new_table_constraints\": [{\"table\": \"players\", \"name\": \"game_id_fk\", \"raw_sql\": \"CONSTRAINT game_id_fk FOREIGN KEY ( game_id ) REFERENCES games ( id_ ) ON DELETE CASCADE ON UPDATE CASCADE\", \"params\": []}, {\"table\": \"players\", \"name\": \"user_id_fk\", \"raw_sql\": \"CONSTRAINT user_id_fk FOREIGN KEY ( user_id ) REFERENCES users ( id_ ) ON DELETE CASCADE ON UPDATE CASCADE\", \"params\": []}], \"dropped_table_constraints\": [], \"new_fields\": [{\"table\": \"_internal_applied_migrations\", \"name\": \"id_\"}, {\"table\": \"games\", \"name\": \"id_\"}, {\"table\": \"games\", \"name\": \"name\"}, {\"table\": \"players\", \"name\": \"game_id\"}, {\"table\": \"players\", \"name\": \"id_\"}, {\"table\": \"players\", \"name\": \"status\", \"default\": 0}, {\"table\": \"players\", \"name\": \"user_id\"}, {\"table\": \"users\", \"name\": \"id_\"}, {\"table\": \"users\", \"name\": \"nickname\", \"default\": null}, {\"table\": \"users\", \"name\": \"username\"}], \"dropped_fields\": [], \"renamed_fields\": [], \"new_field_constraints\": [{\"table\": \"_internal_applied_migrations\", \"field\": \"id_\", \"constraint\": \"NOT NULL\"}, {\"table\": \"_internal_applied_migrations\", \"field\": \"id_\", \"constraint\": \"PRIMARY KEY\"}, {\"table\": \"games\", \"field\": \"id_\", \"constraint\": \"NOT NULL\"}, {\"table\": \"games\", \"field\": \"id_\", \"constraint\": \"PRIMARY KEY\"}, {\"table\": \"games\", \"field\": \"name\", \"constraint\": \"NOT NULL\"}, {\"table\": \"players\", \"field\": \"game_id\", \"constraint\": \"NOT NULL\"}, {\"table\": \"players\", \"field\": \"id_\", \"constraint\": \"NOT NULL\"}, {\"table\": \"players\", \"field\": \"id_\", \"constraint\": \"PRIMARY KEY\"}, {\"table\": \"players\", \"field\": \"status\", \"constraint\": \"NOT NULL\"}, {\"table\": \"players\", \"field\": \"user_id\", \"constraint\": \"NOT NULL\"}, {\"table\": \"users\", \"field\": \"id_\", \"constraint\": \"NOT NULL\"}, {\"table\": \"users\", \"field\": \"id_\", \"constraint\": \"PRIMARY KEY\"}, {\"table\": \"users\", \"field\": \"username\", \"constraint\": \"NOT NULL\"}, {\"table\": \"users\", \"field\": \"username\", \"constraint\": \"UNIQUE\"}], \"dropped_field_constraints\": []}'))"
   ]
  },
  {
   "cell_type": "code",
   "execution_count": null,
   "metadata": {},
   "outputs": [],
   "source": []
  }
 ],
 "metadata": {
  "interpreter": {
   "hash": "40d3a090f54c6569ab1632332b64b2c03c39dcf918b08424e98f38b5ae0af88f"
  },
  "kernelspec": {
   "display_name": "Python 3.9.7 64-bit ('base': conda)",
   "language": "python",
   "name": "python3"
  },
  "language_info": {
   "codemirror_mode": {
    "name": "ipython",
    "version": 3
   },
   "file_extension": ".py",
   "mimetype": "text/x-python",
   "name": "python",
   "nbconvert_exporter": "python",
   "pygments_lexer": "ipython3",
   "version": "3.9.7"
  },
  "orig_nbformat": 4
 },
 "nbformat": 4,
 "nbformat_minor": 2
}
